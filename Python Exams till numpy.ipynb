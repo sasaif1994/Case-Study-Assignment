{
 "cells": [
  {
   "cell_type": "code",
   "execution_count": 55,
   "metadata": {},
   "outputs": [
    {
     "data": {
      "text/plain": [
       "[2,\n",
       " 3,\n",
       " 5,\n",
       " 7,\n",
       " 11,\n",
       " 13,\n",
       " 17,\n",
       " 19,\n",
       " 23,\n",
       " 29,\n",
       " 31,\n",
       " 37,\n",
       " 41,\n",
       " 43,\n",
       " 47,\n",
       " 53,\n",
       " 59,\n",
       " 61,\n",
       " 67,\n",
       " 71,\n",
       " 73,\n",
       " 79,\n",
       " 83,\n",
       " 89,\n",
       " 97]"
      ]
     },
     "execution_count": 55,
     "metadata": {},
     "output_type": "execute_result"
    }
   ],
   "source": [
    "# 1-Write a program using list comprehension to find primes in range 2 to 100.\n",
    "n=100\n",
    "primes1 = [i for i in range(2,n+1) if all(i%j != 0 for j in range(2, int(i ** 0.5) + 1))]\n",
    "primes1"
   ]
  },
  {
   "cell_type": "code",
   "execution_count": 7,
   "metadata": {},
   "outputs": [
    {
     "name": "stdout",
     "output_type": "stream",
     "text": [
      " sucitrami ot emoclew olleH\n"
     ]
    }
   ],
   "source": [
    "#2-Write a function to reverse a string.\n",
    "text = \"Hello welcome to imarticus \"[::-1]\n",
    "print(text)"
   ]
  },
  {
   "cell_type": "code",
   "execution_count": 74,
   "metadata": {},
   "outputs": [
    {
     "name": "stdout",
     "output_type": "stream",
     "text": [
      "['Monday', 'Sunday', 'Saturday']\n"
     ]
    }
   ],
   "source": [
    "#3-Write a program to extract the words from the given list \n",
    "#which have their first character in uppercase.\n",
    "#Days = ['Monday', 'tuesday','friday', 'Sunday', 'Saturday']\n",
    "#Output: ['Monday', 'Sunday', 'Saturday']\n",
    "Days= ['Monday','tuesday','friday','Sunday','Saturday']\n",
    "Output=[i for i in Days if i[0].isupper()]\n",
    "print(Output)"
   ]
  },
  {
   "cell_type": "code",
   "execution_count": 77,
   "metadata": {},
   "outputs": [
    {
     "name": "stdout",
     "output_type": "stream",
     "text": [
      "['1997', '2011', '1993', '2020']\n"
     ]
    }
   ],
   "source": [
    "#4-Write a program to extract the year part from the dates in the given list.\n",
    "\n",
    "#Batch = ['15-06-1997','15-06-2011','15-06-1993','15-06-2020']\n",
    "#Output: ['1997','2011','1993','2020']\n",
    "Batch = ['15-06-1997','15-06-2011','15-06-1993','15-06-2020']\n",
    "I=[i[6:] for i in Batch]\n",
    "print(I)"
   ]
  },
  {
   "cell_type": "code",
   "execution_count": 20,
   "metadata": {},
   "outputs": [
    {
     "name": "stdout",
     "output_type": "stream",
     "text": [
      "{1: 'Data Science', 2: 'Machine Learning', 3: 'SQL', 4: 'Big Data'}\n"
     ]
    }
   ],
   "source": [
    "#5-Write a program swap the keys to values and values to keys of the given dictionary.\n",
    "\n",
    "Module = {'Data Science':1,'Machine Learning':2, 'SQL':3, 'Big Data':4}\n",
    "#Output: {1:'Data Science',2:'Machine Learning', 3:'SQL', 4:'Big Data'}\n",
    "Output = {value:key for key, value in Module.items()}\n",
    "print(Output)"
   ]
  },
  {
   "cell_type": "code",
   "execution_count": 25,
   "metadata": {},
   "outputs": [
    {
     "name": "stdout",
     "output_type": "stream",
     "text": [
      "Average value of the list:\n",
      "\n",
      "3.6\n",
      "Average value of the list:\n",
      "\n",
      "3.6\n"
     ]
    }
   ],
   "source": [
    "#6-Write a program to calculate the cumulative average of the given list using accumulate() and lambda function.\n",
    "\n",
    "#Input list= [5,2,1,4,6]\n",
    "from statistics import mean\n",
    "list= [5,2,1,4,6]\n",
    "list_avg = mean(list)\n",
    "print(\"Average value of the list:\\n\")\n",
    "print(list_avg)\n",
    "from functools import reduce\n",
    "list_len= len(list)\n",
    "list_avg = reduce(lambda x, y: x + y, list) /list_len \n",
    "print(\"Average value of the list:\\n\") \n",
    "print(list_avg)"
   ]
  },
  {
   "cell_type": "code",
   "execution_count": 28,
   "metadata": {},
   "outputs": [
    {
     "name": "stdout",
     "output_type": "stream",
     "text": [
      "enter your name:hello world\n",
      "10\n"
     ]
    }
   ],
   "source": [
    "#7-Write a program to count the number of elements in the string (given by the user) that are not present in the 'my_string'. Do not count the white spaces.\n",
    "\n",
    "#Use Recursion\n",
    "my_string = 'Data Science'\n",
    "person_name=(input(\"enter your name:\"))\n",
    "number_of_letters = len(person_name) - person_name.count(\" \")\n",
    "\n",
    "print(number_of_letters)"
   ]
  },
  {
   "cell_type": "code",
   "execution_count": 30,
   "metadata": {},
   "outputs": [
    {
     "name": "stdout",
     "output_type": "stream",
     "text": [
      " 1005 is in the range\n"
     ]
    }
   ],
   "source": [
    "#8-Define a function to check whether a number is in a range (1000,10000) or not.\n",
    "def test_range(n):\n",
    "    if n in range(1000,10000):\n",
    "        print( \" %s is in the range\"%str(n))\n",
    "    else :\n",
    "        print(\"The number is outside the given range.\")\n",
    "test_range(1005)\n"
   ]
  },
  {
   "cell_type": "code",
   "execution_count": 32,
   "metadata": {},
   "outputs": [
    {
     "name": "stdout",
     "output_type": "stream",
     "text": [
      "      1\n",
      "     1 1\n",
      "    1 2 1\n",
      "   1 3 3 1\n",
      "  1 4 6 4 1\n",
      " 1 6 1 0 5 1\n"
     ]
    }
   ],
   "source": [
    "#9-Write a program to print pascal triangle upto 6 steps (using list).\n",
    "n = 6\n",
    "for i in range(n):\n",
    "    print(' '*(n-i), end='')\n",
    "    print(' '.join(map(str, str(11**i))))"
   ]
  },
  {
   "cell_type": "code",
   "execution_count": 34,
   "metadata": {},
   "outputs": [
    {
     "name": "stdout",
     "output_type": "stream",
     "text": [
      "Sum of all elements in given list:  104\n"
     ]
    }
   ],
   "source": [
    "#10-Write a program to calculate the sum of all elements in the list.\n",
    "\n",
    "test_score = [10, 32, 23, 14, 25]\n",
    "total = 0\n",
    "for ele in range(0, len(test_score)):\n",
    "    total = total + test_score[ele]\n",
    "print(\"Sum of all elements in given list: \", total)"
   ]
  },
  {
   "cell_type": "code",
   "execution_count": 36,
   "metadata": {},
   "outputs": [
    {
     "data": {
      "text/plain": [
       "array([210, 106, 125, 240])"
      ]
     },
     "execution_count": 36,
     "metadata": {},
     "output_type": "execute_result"
    }
   ],
   "source": [
    "#11-Find the minimum value along each of the rows.\n",
    "\n",
    "#Create a 2D Numpy array from list of lists\n",
    "import numpy as np\n",
    "Score = np.array([[210, 402, 383],\n",
    "[140, 375, 106],\n",
    "[140, 125, 217],\n",
    "[292, 240, 295]])\n",
    "Score.min(axis=1)"
   ]
  },
  {
   "cell_type": "code",
   "execution_count": 45,
   "metadata": {},
   "outputs": [
    {
     "name": "stdout",
     "output_type": "stream",
     "text": [
      "[-1 21 -1 13 -1 45 -1 -1 -1 -1 65 -1 -1]\n"
     ]
    }
   ],
   "source": [
    "#12-Replace all even numbers in the array with -1.\n",
    "\n",
    "#Use the array given below\n",
    "num_array = np.array([0, 21, 32, 13, 44, 45, 26, 28, 38, 34, 65, 48, 76])\n",
    "num_array[num_array % 2 == 0] = -1\n",
    "print(num_array)"
   ]
  }
 ],
 "metadata": {
  "kernelspec": {
   "display_name": "Python 3",
   "language": "python",
   "name": "python3"
  },
  "language_info": {
   "codemirror_mode": {
    "name": "ipython",
    "version": 3
   },
   "file_extension": ".py",
   "mimetype": "text/x-python",
   "name": "python",
   "nbconvert_exporter": "python",
   "pygments_lexer": "ipython3",
   "version": "3.8.5"
  }
 },
 "nbformat": 4,
 "nbformat_minor": 4
}
