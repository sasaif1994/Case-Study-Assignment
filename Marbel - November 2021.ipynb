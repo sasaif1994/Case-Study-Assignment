{
 "cells": [
  {
   "cell_type": "markdown",
   "id": "bd78bd88",
   "metadata": {},
   "source": [
    "# <center> Imarticus Data Science Hackathon - November 2021"
   ]
  },
  {
   "cell_type": "markdown",
   "id": "076d3073",
   "metadata": {},
   "source": [
    "### The objective of the problem:\n",
    "\n",
    "Ampire is an emerging sticker company that is trying hard to replace marble and tiles for floors and walls in India\n",
    "\n",
    "Ampire is trying hard to find the value or deal size in rupees based on the sticker type and dealer in different states in India\n",
    "\n",
    "Data Dictionary:-\n",
    "1. Item Code – Unique item number\n",
    "2. State – State customer belongs to\n",
    "3. Date – Date of billing\n",
    "4. Month – Month of billing\n",
    "5. Item Description – Product information\n",
    "6. ERP Size – Dimenision of sticker sheet\n",
    "7. Wall/Floor – suitable for wall or floor\n",
    "8. Sticker Body Type – Design element of the sticker\n",
    "9. <font color=red>Value – Purchase made by the customer for given sticker in Rupees</font>\n",
    "10. Item Classification – Sticker type\n",
    "11. Item Cat. Code – Sticker Category code\n",
    "12. Quality Code – Sticker Quality code\n",
    "13. Customer code – Unique Customer code\n",
    "14. Customer city – City in which customer is residing\n",
    "15. Customer type – Customer type based on sales\n",
    "16. Sales Type – Classification of sale based on purchase\n",
    "17. MRP / box – Price of sticker per box\n",
    "18. MRP / sqm – Price of sticker per square metre\n",
    "19. AD1/sqm – Additional Discount 1 per square metre\n",
    "20. AD2/sqm - Additional Discount 2 per square metre\n",
    "21. AD3/sqm - Additional Discount 3 per square metre\n",
    "22. AD4/sqm - Additional Discount 4 per square metre\n",
    "23. AD5/sqm - Additional Discount 5 per square metre\n",
    "24. AD6/sqm - Additional Discount 6 per square metre\n",
    "25. AD7/sqm - Additional Discount 7 per square metre\n",
    "26. Total AD /sqm – Total additional discount per square metre\n",
    "27. Billing rate/sqm – Billing rate for the customer(dealer or distributor)\n",
    "28. Buyer Rate/sqm – Rate for cutomer who will be using the stickers\n",
    "29. Ship to city – Shiping city\n",
    "30. FY – Financial year\n",
    "31. Category – Materialistic Category\n",
    "32. Review zone – Zone\n",
    "33. Category 2 – Sticker type category\n",
    "34. Re territory – Related territory\n",
    "\n",
    "Evaluation Algorithm\n",
    "Root Mean Square Error (RMSE)\n",
    "normalization_constant 10000\n",
    "\n"
   ]
  },
  {
   "cell_type": "code",
   "execution_count": 105,
   "id": "b87d05c9",
   "metadata": {},
   "outputs": [],
   "source": [
    "import os \n",
    "import pandas as pd\n",
    "import numpy as np\n",
    "from __future__ import division\n",
    "%matplotlib inline\n",
    "\n",
    "from sklearn.preprocessing import LabelEncoder\n",
    "from sklearn.model_selection import train_test_split,KFold, cross_val_score\n",
    "from sklearn import metrics\n",
    "from sklearn.metrics import mean_squared_error,r2_score\n",
    "from sklearn.linear_model import LinearRegression,LogisticRegression\n",
    "from sklearn.preprocessing import PolynomialFeatures\n",
    "from sklearn.linear_model import Ridge, Lasso \n",
    "from sklearn.tree import DecisionTreeRegressor\n",
    "from sklearn.neighbors import KNeighborsRegressor\n",
    "import chart_studio.plotly as py\n",
    "import plotly.offline as pyoff\n",
    "import plotly.graph_objs as go\n",
    "\n",
    "from datetime import datetime, timedelta,date"
   ]
  },
  {
   "cell_type": "code",
   "execution_count": 106,
   "id": "b77b0e31",
   "metadata": {},
   "outputs": [
    {
     "name": "stderr",
     "output_type": "stream",
     "text": [
      "C:\\ProgramData\\Anaconda3\\lib\\site-packages\\IPython\\core\\interactiveshell.py:3441: DtypeWarning:\n",
      "\n",
      "Columns (9,22,24,25) have mixed types.Specify dtype option on import or set low_memory=False.\n",
      "\n"
     ]
    }
   ],
   "source": [
    "os.chdir(r\"D:\\Imarticus\\Extra Practice\\Hackathon\\Imarticus\\For model\")\n",
    "train = pd.read_csv(\"TRAINING.csv\")"
   ]
  },
  {
   "cell_type": "code",
   "execution_count": 107,
   "id": "9f449199",
   "metadata": {},
   "outputs": [],
   "source": [
    "#pd.set_option('display.max_columns',None)\n",
    "#pd.set_option('display.max_rows',None)"
   ]
  },
  {
   "cell_type": "code",
   "execution_count": 108,
   "id": "463023f7",
   "metadata": {},
   "outputs": [
    {
     "name": "stdout",
     "output_type": "stream",
     "text": [
      "<class 'pandas.core.frame.DataFrame'>\n",
      "RangeIndex: 17472 entries, 0 to 17471\n",
      "Data columns (total 34 columns):\n",
      " #   Column               Non-Null Count  Dtype  \n",
      "---  ------               --------------  -----  \n",
      " 0   Item Code            17472 non-null  object \n",
      " 1   State                17472 non-null  object \n",
      " 2   Date                 17472 non-null  object \n",
      " 3   Month                17472 non-null  object \n",
      " 4   Item Description     17472 non-null  object \n",
      " 5   ERP Size             17472 non-null  object \n",
      " 6   Wall / Floor         17472 non-null  object \n",
      " 7   Sticker Body Type    17472 non-null  object \n",
      " 8   Item Classification  17472 non-null  object \n",
      " 9   Value                17472 non-null  object \n",
      " 10  Item Cat. Code       17472 non-null  object \n",
      " 11  Quality Code         17472 non-null  object \n",
      " 12  Customer Code        17472 non-null  object \n",
      " 13  Customer City        17472 non-null  object \n",
      " 14  Customer Type        17472 non-null  object \n",
      " 15  Sales Type           17472 non-null  object \n",
      " 16  MRP /BOX             17472 non-null  int64  \n",
      " 17  MRP /Sqm             17472 non-null  float64\n",
      " 18  AD1 /Sqm             17472 non-null  float64\n",
      " 19  AD2/Sqm              17472 non-null  float64\n",
      " 20  AD3/Sqm              17472 non-null  int64  \n",
      " 21  AD4/Sqm              17432 non-null  float64\n",
      " 22  AD5/Sqm              17432 non-null  object \n",
      " 23  AD6/Sqm              17432 non-null  object \n",
      " 24  AD7/Sqm              17432 non-null  object \n",
      " 25  Total AD/Sqm         17472 non-null  object \n",
      " 26  Billing Rate/Sqm     17458 non-null  float64\n",
      " 27  Buyer Rate/Sqm       17458 non-null  float64\n",
      " 28  Ship+AC0-to City     17416 non-null  object \n",
      " 29  FY                   17472 non-null  object \n",
      " 30  Category             17472 non-null  object \n",
      " 31  Review Zone          17472 non-null  object \n",
      " 32  Category 2           17472 non-null  object \n",
      " 33  Re Territory         17472 non-null  object \n",
      "dtypes: float64(6), int64(2), object(26)\n",
      "memory usage: 4.5+ MB\n"
     ]
    }
   ],
   "source": [
    "train.info()"
   ]
  },
  {
   "cell_type": "code",
   "execution_count": 109,
   "id": "1326fe75",
   "metadata": {},
   "outputs": [
    {
     "data": {
      "text/html": [
       "<div>\n",
       "<style scoped>\n",
       "    .dataframe tbody tr th:only-of-type {\n",
       "        vertical-align: middle;\n",
       "    }\n",
       "\n",
       "    .dataframe tbody tr th {\n",
       "        vertical-align: top;\n",
       "    }\n",
       "\n",
       "    .dataframe thead th {\n",
       "        text-align: right;\n",
       "    }\n",
       "</style>\n",
       "<table border=\"1\" class=\"dataframe\">\n",
       "  <thead>\n",
       "    <tr style=\"text-align: right;\">\n",
       "      <th></th>\n",
       "      <th>Item Code</th>\n",
       "      <th>State</th>\n",
       "      <th>Date</th>\n",
       "      <th>Month</th>\n",
       "      <th>Item Description</th>\n",
       "      <th>ERP Size</th>\n",
       "      <th>Wall / Floor</th>\n",
       "      <th>Sticker Body Type</th>\n",
       "      <th>Item Classification</th>\n",
       "      <th>Value</th>\n",
       "      <th>...</th>\n",
       "      <th>AD7/Sqm</th>\n",
       "      <th>Total AD/Sqm</th>\n",
       "      <th>Billing Rate/Sqm</th>\n",
       "      <th>Buyer Rate/Sqm</th>\n",
       "      <th>Ship+AC0-to City</th>\n",
       "      <th>FY</th>\n",
       "      <th>Category</th>\n",
       "      <th>Review Zone</th>\n",
       "      <th>Category 2</th>\n",
       "      <th>Re Territory</th>\n",
       "    </tr>\n",
       "  </thead>\n",
       "  <tbody>\n",
       "    <tr>\n",
       "      <th>0</th>\n",
       "      <td>C025506652701860361M</td>\n",
       "      <td>Assam</td>\n",
       "      <td>06-08-2018</td>\n",
       "      <td>#NAME?</td>\n",
       "      <td>18+ACI-</td>\n",
       "      <td>600X600 PGVT Botticino Classico 4 Pcs Prem</td>\n",
       "      <td>600X600</td>\n",
       "      <td>Floor</td>\n",
       "      <td>Vitrified</td>\n",
       "      <td>174096</td>\n",
       "      <td>...</td>\n",
       "      <td>0</td>\n",
       "      <td>35</td>\n",
       "      <td>403.0</td>\n",
       "      <td>438.0</td>\n",
       "      <td>Guwahati</td>\n",
       "      <td>2018+AC0-19</td>\n",
       "      <td>HVP</td>\n",
       "      <td>East</td>\n",
       "      <td>GVT</td>\n",
       "      <td>N.EAST</td>\n",
       "    </tr>\n",
       "    <tr>\n",
       "      <th>1</th>\n",
       "      <td>C025506661491859361M</td>\n",
       "      <td>Assam</td>\n",
       "      <td>06-08-2018</td>\n",
       "      <td>#NAME?</td>\n",
       "      <td>18+ACI-</td>\n",
       "      <td>600X600 PGVT Carara Elegance 4 Pcs Prem</td>\n",
       "      <td>600X600</td>\n",
       "      <td>Floor</td>\n",
       "      <td>Vitrified</td>\n",
       "      <td>174096</td>\n",
       "      <td>...</td>\n",
       "      <td>0</td>\n",
       "      <td>35</td>\n",
       "      <td>403.0</td>\n",
       "      <td>438.0</td>\n",
       "      <td>Guwahati</td>\n",
       "      <td>2018+AC0-19</td>\n",
       "      <td>HVP</td>\n",
       "      <td>East</td>\n",
       "      <td>GVT</td>\n",
       "      <td>N.EAST</td>\n",
       "    </tr>\n",
       "    <tr>\n",
       "      <th>2</th>\n",
       "      <td>C025506665870335361M</td>\n",
       "      <td>Assam</td>\n",
       "      <td>06-08-2018</td>\n",
       "      <td>#NAME?</td>\n",
       "      <td>18+ACI-</td>\n",
       "      <td>600X600 PGVT Hamley Grey 4 Pcs Prem</td>\n",
       "      <td>600X600</td>\n",
       "      <td>Floor</td>\n",
       "      <td>Vitrified</td>\n",
       "      <td>174096</td>\n",
       "      <td>...</td>\n",
       "      <td>0</td>\n",
       "      <td>35</td>\n",
       "      <td>403.0</td>\n",
       "      <td>438.0</td>\n",
       "      <td>Guwahati</td>\n",
       "      <td>2018+AC0-19</td>\n",
       "      <td>HVP</td>\n",
       "      <td>East</td>\n",
       "      <td>GVT</td>\n",
       "      <td>N.EAST</td>\n",
       "    </tr>\n",
       "    <tr>\n",
       "      <th>3</th>\n",
       "      <td>C025506652720553361M</td>\n",
       "      <td>Assam</td>\n",
       "      <td>06-08-2018</td>\n",
       "      <td>#NAME?</td>\n",
       "      <td>18+ACI-</td>\n",
       "      <td>600X600 PGVT Onyx Verde 4 Pcs Prem</td>\n",
       "      <td>600X600</td>\n",
       "      <td>Floor</td>\n",
       "      <td>Vitrified</td>\n",
       "      <td>162489.6</td>\n",
       "      <td>...</td>\n",
       "      <td>0</td>\n",
       "      <td>35</td>\n",
       "      <td>403.0</td>\n",
       "      <td>438.0</td>\n",
       "      <td>Guwahati</td>\n",
       "      <td>2018+AC0-19</td>\n",
       "      <td>HVP</td>\n",
       "      <td>East</td>\n",
       "      <td>GVT</td>\n",
       "      <td>N.EAST</td>\n",
       "    </tr>\n",
       "    <tr>\n",
       "      <th>4</th>\n",
       "      <td>C025506661491859361M</td>\n",
       "      <td>Bihar</td>\n",
       "      <td>06-08-2018</td>\n",
       "      <td>#NAME?</td>\n",
       "      <td>18+ACI-</td>\n",
       "      <td>600X600 PGVT Carara Elegance 4 Pcs Prem</td>\n",
       "      <td>600X600</td>\n",
       "      <td>Floor</td>\n",
       "      <td>Vitrified</td>\n",
       "      <td>97493.76</td>\n",
       "      <td>...</td>\n",
       "      <td>0</td>\n",
       "      <td>35</td>\n",
       "      <td>403.0</td>\n",
       "      <td>438.0</td>\n",
       "      <td>Samastipur</td>\n",
       "      <td>2018+AC0-19</td>\n",
       "      <td>HVP</td>\n",
       "      <td>East</td>\n",
       "      <td>GVT</td>\n",
       "      <td>PATNA</td>\n",
       "    </tr>\n",
       "  </tbody>\n",
       "</table>\n",
       "<p>5 rows × 34 columns</p>\n",
       "</div>"
      ],
      "text/plain": [
       "              Item Code  State        Date   Month Item Description  \\\n",
       "0  C025506652701860361M  Assam  06-08-2018  #NAME?          18+ACI-   \n",
       "1  C025506661491859361M  Assam  06-08-2018  #NAME?          18+ACI-   \n",
       "2  C025506665870335361M  Assam  06-08-2018  #NAME?          18+ACI-   \n",
       "3  C025506652720553361M  Assam  06-08-2018  #NAME?          18+ACI-   \n",
       "4  C025506661491859361M  Bihar  06-08-2018  #NAME?          18+ACI-   \n",
       "\n",
       "                                     ERP Size Wall / Floor Sticker Body Type  \\\n",
       "0  600X600 PGVT Botticino Classico 4 Pcs Prem      600X600             Floor   \n",
       "1     600X600 PGVT Carara Elegance 4 Pcs Prem      600X600             Floor   \n",
       "2         600X600 PGVT Hamley Grey 4 Pcs Prem      600X600             Floor   \n",
       "3          600X600 PGVT Onyx Verde 4 Pcs Prem      600X600             Floor   \n",
       "4     600X600 PGVT Carara Elegance 4 Pcs Prem      600X600             Floor   \n",
       "\n",
       "  Item Classification     Value  ... AD7/Sqm Total AD/Sqm Billing Rate/Sqm  \\\n",
       "0           Vitrified    174096  ...       0           35            403.0   \n",
       "1           Vitrified    174096  ...       0           35            403.0   \n",
       "2           Vitrified    174096  ...       0           35            403.0   \n",
       "3           Vitrified  162489.6  ...       0           35            403.0   \n",
       "4           Vitrified  97493.76  ...       0           35            403.0   \n",
       "\n",
       "  Buyer Rate/Sqm Ship+AC0-to City           FY  Category  Review Zone  \\\n",
       "0          438.0         Guwahati  2018+AC0-19       HVP         East   \n",
       "1          438.0         Guwahati  2018+AC0-19       HVP         East   \n",
       "2          438.0         Guwahati  2018+AC0-19       HVP         East   \n",
       "3          438.0         Guwahati  2018+AC0-19       HVP         East   \n",
       "4          438.0       Samastipur  2018+AC0-19       HVP         East   \n",
       "\n",
       "   Category 2  Re Territory  \n",
       "0         GVT        N.EAST  \n",
       "1         GVT        N.EAST  \n",
       "2         GVT        N.EAST  \n",
       "3         GVT        N.EAST  \n",
       "4         GVT         PATNA  \n",
       "\n",
       "[5 rows x 34 columns]"
      ]
     },
     "execution_count": 109,
     "metadata": {},
     "output_type": "execute_result"
    }
   ],
   "source": [
    "train.head()"
   ]
  },
  {
   "cell_type": "markdown",
   "id": "fef4355a",
   "metadata": {},
   "source": [
    "## Data Preparation & Cleaning"
   ]
  },
  {
   "cell_type": "code",
   "execution_count": 110,
   "id": "9a315bd2",
   "metadata": {},
   "outputs": [
    {
     "data": {
      "text/plain": [
       "(17472, 34)"
      ]
     },
     "execution_count": 110,
     "metadata": {},
     "output_type": "execute_result"
    }
   ],
   "source": [
    "train.shape"
   ]
  },
  {
   "cell_type": "code",
   "execution_count": 111,
   "id": "c8e90213",
   "metadata": {},
   "outputs": [],
   "source": [
    "train.replace('#NAME?',np.nan,inplace=True)\n",
    "\n",
    "train.drop(['Month','Date'],axis=1,inplace=True)"
   ]
  },
  {
   "cell_type": "code",
   "execution_count": 112,
   "id": "4e082535",
   "metadata": {},
   "outputs": [],
   "source": [
    "train['Ship+AC0-to City'].fillna(train['Ship+AC0-to City'].mode()[0],inplace=True)"
   ]
  },
  {
   "cell_type": "code",
   "execution_count": 113,
   "id": "597bfd60",
   "metadata": {},
   "outputs": [],
   "source": [
    "avg=train['Value'].astype('float').mean(axis=0)\n",
    "avg\n",
    "\n",
    "train['Value'].replace(np.nan,avg,inplace=True)"
   ]
  },
  {
   "cell_type": "code",
   "execution_count": 114,
   "id": "d6267b91",
   "metadata": {},
   "outputs": [],
   "source": [
    "avg1=train['AD4/Sqm'].astype('float').mean(axis=0)\n",
    "train['AD4/Sqm'].replace(np.nan,avg1,inplace=True)"
   ]
  },
  {
   "cell_type": "code",
   "execution_count": 115,
   "id": "7c5d42d9",
   "metadata": {},
   "outputs": [],
   "source": [
    "avg2=train['AD5/Sqm'].astype('float').mean(axis=0)\n",
    "train['AD5/Sqm'].replace(np.nan,avg2,inplace=True)"
   ]
  },
  {
   "cell_type": "code",
   "execution_count": 116,
   "id": "9e2808d0",
   "metadata": {},
   "outputs": [],
   "source": [
    "avg3=train['AD6/Sqm'].astype('float').mean(axis=0)\n",
    "train['AD6/Sqm'].replace(np.nan,avg3,inplace=True)"
   ]
  },
  {
   "cell_type": "code",
   "execution_count": 117,
   "id": "bfc3c066",
   "metadata": {},
   "outputs": [],
   "source": [
    "train['AD7/Sqm'].replace('SIPL/1819/06179',np.nan,inplace=True)\n",
    "train['AD7/Sqm'].replace('SIPL/1819/06347',np.nan,inplace=True)\n",
    "train['AD7/Sqm'].replace('SIPLEXS18/0091',np.nan,inplace=True)"
   ]
  },
  {
   "cell_type": "code",
   "execution_count": 118,
   "id": "6f235273",
   "metadata": {},
   "outputs": [],
   "source": [
    "avg4=train['AD7/Sqm'].astype('float').mean(axis=0)\n",
    "\n",
    "train['AD7/Sqm'].replace(np.nan,avg4,inplace=True)"
   ]
  },
  {
   "cell_type": "code",
   "execution_count": 119,
   "id": "9c31778d",
   "metadata": {},
   "outputs": [],
   "source": [
    "avg5=train['Billing Rate/Sqm'].astype('float').mean(axis=0)\n",
    "avg5\n",
    "\n",
    "train['Billing Rate/Sqm'].replace(np.nan,avg5,inplace=True)"
   ]
  },
  {
   "cell_type": "code",
   "execution_count": 120,
   "id": "5d21335c",
   "metadata": {},
   "outputs": [],
   "source": [
    "avg6=train['Buyer Rate/Sqm'].astype('float').mean(axis=0)\n",
    "avg6\n",
    "\n",
    "train['Buyer Rate/Sqm'].replace(np.nan,avg6,inplace=True)"
   ]
  },
  {
   "cell_type": "code",
   "execution_count": 121,
   "id": "3d8b00bc",
   "metadata": {},
   "outputs": [],
   "source": [
    "train['AD5/Sqm']=train['AD5/Sqm'].astype('float')\n",
    "train['AD6/Sqm']=train['AD5/Sqm'].astype('float')\n",
    "train['AD7/Sqm']=train['AD5/Sqm'].astype('float')\n",
    "train['Value']=train['Value'].astype('float')"
   ]
  },
  {
   "cell_type": "code",
   "execution_count": 122,
   "id": "54be6433",
   "metadata": {},
   "outputs": [
    {
     "name": "stdout",
     "output_type": "stream",
     "text": [
      "<class 'pandas.core.frame.DataFrame'>\n",
      "RangeIndex: 17472 entries, 0 to 17471\n",
      "Data columns (total 32 columns):\n",
      " #   Column               Non-Null Count  Dtype  \n",
      "---  ------               --------------  -----  \n",
      " 0   Item Code            17472 non-null  object \n",
      " 1   State                17472 non-null  object \n",
      " 2   Item Description     17472 non-null  object \n",
      " 3   ERP Size             17472 non-null  object \n",
      " 4   Wall / Floor         17472 non-null  object \n",
      " 5   Sticker Body Type    17472 non-null  object \n",
      " 6   Item Classification  17472 non-null  object \n",
      " 7   Value                17472 non-null  float64\n",
      " 8   Item Cat. Code       17472 non-null  object \n",
      " 9   Quality Code         17472 non-null  object \n",
      " 10  Customer Code        17472 non-null  object \n",
      " 11  Customer City        17472 non-null  object \n",
      " 12  Customer Type        17472 non-null  object \n",
      " 13  Sales Type           17472 non-null  object \n",
      " 14  MRP /BOX             17472 non-null  int64  \n",
      " 15  MRP /Sqm             17472 non-null  float64\n",
      " 16  AD1 /Sqm             17472 non-null  float64\n",
      " 17  AD2/Sqm              17472 non-null  float64\n",
      " 18  AD3/Sqm              17472 non-null  int64  \n",
      " 19  AD4/Sqm              17472 non-null  float64\n",
      " 20  AD5/Sqm              17472 non-null  float64\n",
      " 21  AD6/Sqm              17472 non-null  float64\n",
      " 22  AD7/Sqm              17472 non-null  float64\n",
      " 23  Total AD/Sqm         17472 non-null  object \n",
      " 24  Billing Rate/Sqm     17472 non-null  float64\n",
      " 25  Buyer Rate/Sqm       17472 non-null  float64\n",
      " 26  Ship+AC0-to City     17472 non-null  object \n",
      " 27  FY                   17472 non-null  object \n",
      " 28  Category             17472 non-null  object \n",
      " 29  Review Zone          17472 non-null  object \n",
      " 30  Category 2           17472 non-null  object \n",
      " 31  Re Territory         17472 non-null  object \n",
      "dtypes: float64(10), int64(2), object(20)\n",
      "memory usage: 4.3+ MB\n"
     ]
    }
   ],
   "source": [
    "train.info()"
   ]
  },
  {
   "cell_type": "code",
   "execution_count": 123,
   "id": "e13cd36a",
   "metadata": {},
   "outputs": [
    {
     "data": {
      "text/plain": [
       "Item Code              0\n",
       "State                  0\n",
       "Item Description       0\n",
       "ERP Size               0\n",
       "Wall / Floor           0\n",
       "Sticker Body Type      0\n",
       "Item Classification    0\n",
       "Value                  0\n",
       "Item Cat. Code         0\n",
       "Quality Code           0\n",
       "Customer Code          0\n",
       "Customer City          0\n",
       "Customer Type          0\n",
       "Sales Type             0\n",
       "MRP /BOX               0\n",
       "MRP /Sqm               0\n",
       "AD1 /Sqm               0\n",
       "AD2/Sqm                0\n",
       "AD3/Sqm                0\n",
       "AD4/Sqm                0\n",
       "AD5/Sqm                0\n",
       "AD6/Sqm                0\n",
       "AD7/Sqm                0\n",
       "Total AD/Sqm           0\n",
       "Billing Rate/Sqm       0\n",
       "Buyer Rate/Sqm         0\n",
       "Ship+AC0-to City       0\n",
       "FY                     0\n",
       "Category               0\n",
       "Review Zone            0\n",
       "Category 2             0\n",
       "Re Territory           0\n",
       "dtype: int64"
      ]
     },
     "execution_count": 123,
     "metadata": {},
     "output_type": "execute_result"
    }
   ],
   "source": [
    "train.isnull().sum()"
   ]
  },
  {
   "cell_type": "markdown",
   "id": "d79f5aa5",
   "metadata": {},
   "source": [
    "### Label Encoder"
   ]
  },
  {
   "cell_type": "code",
   "execution_count": 124,
   "id": "24b28389",
   "metadata": {},
   "outputs": [],
   "source": [
    "from sklearn.preprocessing import LabelEncoder"
   ]
  },
  {
   "cell_type": "code",
   "execution_count": 125,
   "id": "60dd0c43",
   "metadata": {},
   "outputs": [
    {
     "data": {
      "text/plain": [
       "Index(['Item Code', 'State', 'Item Description', 'ERP Size', 'Wall / Floor',\n",
       "       'Sticker Body Type', 'Item Classification', 'Item Cat. Code',\n",
       "       'Quality Code', 'Customer Code', 'Customer City', 'Customer Type',\n",
       "       'Sales Type', 'Total AD/Sqm', 'Ship+AC0-to City', 'FY', 'Category',\n",
       "       'Review Zone', 'Category 2', 'Re Territory'],\n",
       "      dtype='object')"
      ]
     },
     "execution_count": 125,
     "metadata": {},
     "output_type": "execute_result"
    }
   ],
   "source": [
    "train_cat=train.select_dtypes(include='object').columns \n",
    "train_cat"
   ]
  },
  {
   "cell_type": "code",
   "execution_count": 126,
   "id": "cd1c722d",
   "metadata": {},
   "outputs": [],
   "source": [
    "for c in train_cat:\n",
    "        lbl=LabelEncoder()\n",
    "        lbl.fit(list(train[c].values))\n",
    "        train[c]=lbl.transform(list(train[c].values))"
   ]
  },
  {
   "cell_type": "code",
   "execution_count": 127,
   "id": "7b1ca081",
   "metadata": {},
   "outputs": [
    {
     "name": "stdout",
     "output_type": "stream",
     "text": [
      "<class 'pandas.core.frame.DataFrame'>\n",
      "RangeIndex: 17472 entries, 0 to 17471\n",
      "Data columns (total 32 columns):\n",
      " #   Column               Non-Null Count  Dtype  \n",
      "---  ------               --------------  -----  \n",
      " 0   Item Code            17472 non-null  int32  \n",
      " 1   State                17472 non-null  int32  \n",
      " 2   Item Description     17472 non-null  int32  \n",
      " 3   ERP Size             17472 non-null  int32  \n",
      " 4   Wall / Floor         17472 non-null  int32  \n",
      " 5   Sticker Body Type    17472 non-null  int32  \n",
      " 6   Item Classification  17472 non-null  int32  \n",
      " 7   Value                17472 non-null  float64\n",
      " 8   Item Cat. Code       17472 non-null  int32  \n",
      " 9   Quality Code         17472 non-null  int32  \n",
      " 10  Customer Code        17472 non-null  int32  \n",
      " 11  Customer City        17472 non-null  int32  \n",
      " 12  Customer Type        17472 non-null  int32  \n",
      " 13  Sales Type           17472 non-null  int32  \n",
      " 14  MRP /BOX             17472 non-null  int64  \n",
      " 15  MRP /Sqm             17472 non-null  float64\n",
      " 16  AD1 /Sqm             17472 non-null  float64\n",
      " 17  AD2/Sqm              17472 non-null  float64\n",
      " 18  AD3/Sqm              17472 non-null  int64  \n",
      " 19  AD4/Sqm              17472 non-null  float64\n",
      " 20  AD5/Sqm              17472 non-null  float64\n",
      " 21  AD6/Sqm              17472 non-null  float64\n",
      " 22  AD7/Sqm              17472 non-null  float64\n",
      " 23  Total AD/Sqm         17472 non-null  int32  \n",
      " 24  Billing Rate/Sqm     17472 non-null  float64\n",
      " 25  Buyer Rate/Sqm       17472 non-null  float64\n",
      " 26  Ship+AC0-to City     17472 non-null  int32  \n",
      " 27  FY                   17472 non-null  int32  \n",
      " 28  Category             17472 non-null  int32  \n",
      " 29  Review Zone          17472 non-null  int32  \n",
      " 30  Category 2           17472 non-null  int32  \n",
      " 31  Re Territory         17472 non-null  int32  \n",
      "dtypes: float64(10), int32(20), int64(2)\n",
      "memory usage: 2.9 MB\n"
     ]
    }
   ],
   "source": [
    "train.info()"
   ]
  },
  {
   "cell_type": "code",
   "execution_count": 128,
   "id": "bb1007f7",
   "metadata": {},
   "outputs": [
    {
     "data": {
      "text/html": [
       "<div>\n",
       "<style scoped>\n",
       "    .dataframe tbody tr th:only-of-type {\n",
       "        vertical-align: middle;\n",
       "    }\n",
       "\n",
       "    .dataframe tbody tr th {\n",
       "        vertical-align: top;\n",
       "    }\n",
       "\n",
       "    .dataframe thead th {\n",
       "        text-align: right;\n",
       "    }\n",
       "</style>\n",
       "<table border=\"1\" class=\"dataframe\">\n",
       "  <thead>\n",
       "    <tr style=\"text-align: right;\">\n",
       "      <th></th>\n",
       "      <th>Item Code</th>\n",
       "      <th>State</th>\n",
       "      <th>Item Description</th>\n",
       "      <th>ERP Size</th>\n",
       "      <th>Wall / Floor</th>\n",
       "      <th>Sticker Body Type</th>\n",
       "      <th>Item Classification</th>\n",
       "      <th>Value</th>\n",
       "      <th>Item Cat. Code</th>\n",
       "      <th>Quality Code</th>\n",
       "      <th>...</th>\n",
       "      <th>AD7/Sqm</th>\n",
       "      <th>Total AD/Sqm</th>\n",
       "      <th>Billing Rate/Sqm</th>\n",
       "      <th>Buyer Rate/Sqm</th>\n",
       "      <th>Ship+AC0-to City</th>\n",
       "      <th>FY</th>\n",
       "      <th>Category</th>\n",
       "      <th>Review Zone</th>\n",
       "      <th>Category 2</th>\n",
       "      <th>Re Territory</th>\n",
       "    </tr>\n",
       "  </thead>\n",
       "  <tbody>\n",
       "    <tr>\n",
       "      <th>0</th>\n",
       "      <td>391</td>\n",
       "      <td>3</td>\n",
       "      <td>0</td>\n",
       "      <td>438</td>\n",
       "      <td>7</td>\n",
       "      <td>0</td>\n",
       "      <td>1</td>\n",
       "      <td>174096.00</td>\n",
       "      <td>4</td>\n",
       "      <td>0</td>\n",
       "      <td>...</td>\n",
       "      <td>0.0</td>\n",
       "      <td>36</td>\n",
       "      <td>403.0</td>\n",
       "      <td>438.0</td>\n",
       "      <td>107</td>\n",
       "      <td>0</td>\n",
       "      <td>0</td>\n",
       "      <td>1</td>\n",
       "      <td>2</td>\n",
       "      <td>22</td>\n",
       "    </tr>\n",
       "    <tr>\n",
       "      <th>1</th>\n",
       "      <td>394</td>\n",
       "      <td>3</td>\n",
       "      <td>0</td>\n",
       "      <td>439</td>\n",
       "      <td>7</td>\n",
       "      <td>0</td>\n",
       "      <td>1</td>\n",
       "      <td>174096.00</td>\n",
       "      <td>4</td>\n",
       "      <td>0</td>\n",
       "      <td>...</td>\n",
       "      <td>0.0</td>\n",
       "      <td>36</td>\n",
       "      <td>403.0</td>\n",
       "      <td>438.0</td>\n",
       "      <td>107</td>\n",
       "      <td>0</td>\n",
       "      <td>0</td>\n",
       "      <td>1</td>\n",
       "      <td>2</td>\n",
       "      <td>22</td>\n",
       "    </tr>\n",
       "    <tr>\n",
       "      <th>2</th>\n",
       "      <td>396</td>\n",
       "      <td>3</td>\n",
       "      <td>0</td>\n",
       "      <td>447</td>\n",
       "      <td>7</td>\n",
       "      <td>0</td>\n",
       "      <td>1</td>\n",
       "      <td>174096.00</td>\n",
       "      <td>4</td>\n",
       "      <td>0</td>\n",
       "      <td>...</td>\n",
       "      <td>0.0</td>\n",
       "      <td>36</td>\n",
       "      <td>403.0</td>\n",
       "      <td>438.0</td>\n",
       "      <td>107</td>\n",
       "      <td>0</td>\n",
       "      <td>0</td>\n",
       "      <td>1</td>\n",
       "      <td>2</td>\n",
       "      <td>22</td>\n",
       "    </tr>\n",
       "    <tr>\n",
       "      <th>3</th>\n",
       "      <td>392</td>\n",
       "      <td>3</td>\n",
       "      <td>0</td>\n",
       "      <td>453</td>\n",
       "      <td>7</td>\n",
       "      <td>0</td>\n",
       "      <td>1</td>\n",
       "      <td>162489.60</td>\n",
       "      <td>4</td>\n",
       "      <td>0</td>\n",
       "      <td>...</td>\n",
       "      <td>0.0</td>\n",
       "      <td>36</td>\n",
       "      <td>403.0</td>\n",
       "      <td>438.0</td>\n",
       "      <td>107</td>\n",
       "      <td>0</td>\n",
       "      <td>0</td>\n",
       "      <td>1</td>\n",
       "      <td>2</td>\n",
       "      <td>22</td>\n",
       "    </tr>\n",
       "    <tr>\n",
       "      <th>4</th>\n",
       "      <td>394</td>\n",
       "      <td>4</td>\n",
       "      <td>0</td>\n",
       "      <td>439</td>\n",
       "      <td>7</td>\n",
       "      <td>0</td>\n",
       "      <td>1</td>\n",
       "      <td>97493.76</td>\n",
       "      <td>4</td>\n",
       "      <td>0</td>\n",
       "      <td>...</td>\n",
       "      <td>0.0</td>\n",
       "      <td>36</td>\n",
       "      <td>403.0</td>\n",
       "      <td>438.0</td>\n",
       "      <td>264</td>\n",
       "      <td>0</td>\n",
       "      <td>0</td>\n",
       "      <td>1</td>\n",
       "      <td>2</td>\n",
       "      <td>26</td>\n",
       "    </tr>\n",
       "  </tbody>\n",
       "</table>\n",
       "<p>5 rows × 32 columns</p>\n",
       "</div>"
      ],
      "text/plain": [
       "   Item Code  State  Item Description  ERP Size  Wall / Floor  \\\n",
       "0        391      3                 0       438             7   \n",
       "1        394      3                 0       439             7   \n",
       "2        396      3                 0       447             7   \n",
       "3        392      3                 0       453             7   \n",
       "4        394      4                 0       439             7   \n",
       "\n",
       "   Sticker Body Type  Item Classification      Value  Item Cat. Code  \\\n",
       "0                  0                    1  174096.00               4   \n",
       "1                  0                    1  174096.00               4   \n",
       "2                  0                    1  174096.00               4   \n",
       "3                  0                    1  162489.60               4   \n",
       "4                  0                    1   97493.76               4   \n",
       "\n",
       "   Quality Code  ...  AD7/Sqm  Total AD/Sqm  Billing Rate/Sqm  Buyer Rate/Sqm  \\\n",
       "0             0  ...      0.0            36             403.0           438.0   \n",
       "1             0  ...      0.0            36             403.0           438.0   \n",
       "2             0  ...      0.0            36             403.0           438.0   \n",
       "3             0  ...      0.0            36             403.0           438.0   \n",
       "4             0  ...      0.0            36             403.0           438.0   \n",
       "\n",
       "   Ship+AC0-to City  FY  Category  Review Zone  Category 2  Re Territory  \n",
       "0               107   0         0            1           2            22  \n",
       "1               107   0         0            1           2            22  \n",
       "2               107   0         0            1           2            22  \n",
       "3               107   0         0            1           2            22  \n",
       "4               264   0         0            1           2            26  \n",
       "\n",
       "[5 rows x 32 columns]"
      ]
     },
     "execution_count": 128,
     "metadata": {},
     "output_type": "execute_result"
    }
   ],
   "source": [
    "train.head()"
   ]
  },
  {
   "cell_type": "code",
   "execution_count": 129,
   "id": "85528550",
   "metadata": {},
   "outputs": [
    {
     "data": {
      "text/plain": [
       "7020.00      472\n",
       "10530.00     300\n",
       "14040.00     292\n",
       "6168.96      267\n",
       "17550.00     263\n",
       "            ... \n",
       "21471.84       1\n",
       "6994.80        1\n",
       "44683.20       1\n",
       "16829.28       1\n",
       "179020.80      1\n",
       "Name: Value, Length: 2568, dtype: int64"
      ]
     },
     "execution_count": 129,
     "metadata": {},
     "output_type": "execute_result"
    }
   ],
   "source": [
    "train.Value.value_counts()"
   ]
  },
  {
   "cell_type": "markdown",
   "id": "f0be5f5c",
   "metadata": {},
   "source": [
    "### Test Data"
   ]
  },
  {
   "cell_type": "code",
   "execution_count": 130,
   "id": "e774c2d0",
   "metadata": {},
   "outputs": [],
   "source": [
    "test = pd.read_csv(\"TEST.csv\")"
   ]
  },
  {
   "cell_type": "code",
   "execution_count": 131,
   "id": "3cd7b454",
   "metadata": {},
   "outputs": [
    {
     "data": {
      "text/html": [
       "<div>\n",
       "<style scoped>\n",
       "    .dataframe tbody tr th:only-of-type {\n",
       "        vertical-align: middle;\n",
       "    }\n",
       "\n",
       "    .dataframe tbody tr th {\n",
       "        vertical-align: top;\n",
       "    }\n",
       "\n",
       "    .dataframe thead th {\n",
       "        text-align: right;\n",
       "    }\n",
       "</style>\n",
       "<table border=\"1\" class=\"dataframe\">\n",
       "  <thead>\n",
       "    <tr style=\"text-align: right;\">\n",
       "      <th></th>\n",
       "      <th>Item Code</th>\n",
       "      <th>State</th>\n",
       "      <th>Date</th>\n",
       "      <th>Month</th>\n",
       "      <th>Item Description</th>\n",
       "      <th>ERP Size</th>\n",
       "      <th>Wall / Floor</th>\n",
       "      <th>Sticker Body Type</th>\n",
       "      <th>Item Classification</th>\n",
       "      <th>Item Cat. Code</th>\n",
       "      <th>...</th>\n",
       "      <th>Billing Rate/Sqm</th>\n",
       "      <th>Buyer Rate/Sqm</th>\n",
       "      <th>Ship+AC0-to City</th>\n",
       "      <th>FY</th>\n",
       "      <th>Category</th>\n",
       "      <th>Review Zone</th>\n",
       "      <th>Category 2</th>\n",
       "      <th>Re Territory</th>\n",
       "      <th>Unnamed: 33</th>\n",
       "      <th>Unnamed: 34</th>\n",
       "    </tr>\n",
       "  </thead>\n",
       "  <tbody>\n",
       "    <tr>\n",
       "      <th>0</th>\n",
       "      <td>C015005764401033011M</td>\n",
       "      <td>Uttar Pradesh</td>\n",
       "      <td>26-02-2019</td>\n",
       "      <td>#NAME?</td>\n",
       "      <td>19+ACI-</td>\n",
       "      <td>300X600 ODM Babylon Brown Dk 6 Pcs Prem</td>\n",
       "      <td>300X600</td>\n",
       "      <td>Wall</td>\n",
       "      <td>Ceramic</td>\n",
       "      <td>S0570502+AF8-1</td>\n",
       "      <td>...</td>\n",
       "      <td>325.0</td>\n",
       "      <td>360</td>\n",
       "      <td>Sikandrabad</td>\n",
       "      <td>2018+AC0-19</td>\n",
       "      <td>HVP</td>\n",
       "      <td>NC</td>\n",
       "      <td>Ceramic</td>\n",
       "      <td>NOIDA</td>\n",
       "      <td>NaN</td>\n",
       "      <td>NaN</td>\n",
       "    </tr>\n",
       "    <tr>\n",
       "      <th>1</th>\n",
       "      <td>C015005764401034011M</td>\n",
       "      <td>Uttar Pradesh</td>\n",
       "      <td>26-02-2019</td>\n",
       "      <td>#NAME?</td>\n",
       "      <td>19+ACI-</td>\n",
       "      <td>300X600 ODM Babylon Brown Lt 6 Pcs Prem</td>\n",
       "      <td>300X600</td>\n",
       "      <td>Wall</td>\n",
       "      <td>Ceramic</td>\n",
       "      <td>S0570501+AF8-1</td>\n",
       "      <td>...</td>\n",
       "      <td>325.0</td>\n",
       "      <td>360</td>\n",
       "      <td>Sikandrabad</td>\n",
       "      <td>2018+AC0-19</td>\n",
       "      <td>HVP</td>\n",
       "      <td>NC</td>\n",
       "      <td>Ceramic</td>\n",
       "      <td>NOIDA</td>\n",
       "      <td>NaN</td>\n",
       "      <td>NaN</td>\n",
       "    </tr>\n",
       "    <tr>\n",
       "      <th>2</th>\n",
       "      <td>C015005664260249011M</td>\n",
       "      <td>Uttarakhand</td>\n",
       "      <td>26-02-2019</td>\n",
       "      <td>#NAME?</td>\n",
       "      <td>19+ACI-</td>\n",
       "      <td>300X450 ODG Emilia Brown 6 Pcs Prem</td>\n",
       "      <td>300X450</td>\n",
       "      <td>Wall</td>\n",
       "      <td>Ceramic</td>\n",
       "      <td>S0560501+AF8-1</td>\n",
       "      <td>...</td>\n",
       "      <td>252.0</td>\n",
       "      <td>282</td>\n",
       "      <td>Dehradun</td>\n",
       "      <td>2018+AC0-19</td>\n",
       "      <td>Non HVP</td>\n",
       "      <td>NC</td>\n",
       "      <td>Ceramic</td>\n",
       "      <td>DEHRADUN</td>\n",
       "      <td>NaN</td>\n",
       "      <td>NaN</td>\n",
       "    </tr>\n",
       "    <tr>\n",
       "      <th>3</th>\n",
       "      <td>C015005664281343011M</td>\n",
       "      <td>Uttarakhand</td>\n",
       "      <td>26-02-2019</td>\n",
       "      <td>#NAME?</td>\n",
       "      <td>19+ACI-</td>\n",
       "      <td>300X450 ODH Emilia Hl 6 Pcs Prem</td>\n",
       "      <td>300X450</td>\n",
       "      <td>Wall</td>\n",
       "      <td>Ceramic</td>\n",
       "      <td>S0560502+AF8-1</td>\n",
       "      <td>...</td>\n",
       "      <td>252.0</td>\n",
       "      <td>282</td>\n",
       "      <td>Dehradun</td>\n",
       "      <td>2018+AC0-19</td>\n",
       "      <td>Non HVP</td>\n",
       "      <td>NC</td>\n",
       "      <td>Ceramic</td>\n",
       "      <td>DEHRADUN</td>\n",
       "      <td>NaN</td>\n",
       "      <td>NaN</td>\n",
       "    </tr>\n",
       "    <tr>\n",
       "      <th>4</th>\n",
       "      <td>C015005765101031011M</td>\n",
       "      <td>Uttarakhand</td>\n",
       "      <td>26-02-2019</td>\n",
       "      <td>#NAME?</td>\n",
       "      <td>19+ACI-</td>\n",
       "      <td>300X600 ODG Hexagon Beige Lt 6 Pcs Prem</td>\n",
       "      <td>300X600</td>\n",
       "      <td>Wall</td>\n",
       "      <td>Ceramic</td>\n",
       "      <td>S0570501+AF8-1</td>\n",
       "      <td>...</td>\n",
       "      <td>330.0</td>\n",
       "      <td>360</td>\n",
       "      <td>Dehradun</td>\n",
       "      <td>2018+AC0-19</td>\n",
       "      <td>HVP</td>\n",
       "      <td>NC</td>\n",
       "      <td>Ceramic</td>\n",
       "      <td>DEHRADUN</td>\n",
       "      <td>NaN</td>\n",
       "      <td>NaN</td>\n",
       "    </tr>\n",
       "  </tbody>\n",
       "</table>\n",
       "<p>5 rows × 35 columns</p>\n",
       "</div>"
      ],
      "text/plain": [
       "              Item Code          State        Date   Month Item Description  \\\n",
       "0  C015005764401033011M  Uttar Pradesh  26-02-2019  #NAME?          19+ACI-   \n",
       "1  C015005764401034011M  Uttar Pradesh  26-02-2019  #NAME?          19+ACI-   \n",
       "2  C015005664260249011M    Uttarakhand  26-02-2019  #NAME?          19+ACI-   \n",
       "3  C015005664281343011M    Uttarakhand  26-02-2019  #NAME?          19+ACI-   \n",
       "4  C015005765101031011M    Uttarakhand  26-02-2019  #NAME?          19+ACI-   \n",
       "\n",
       "                                  ERP Size Wall / Floor Sticker Body Type  \\\n",
       "0  300X600 ODM Babylon Brown Dk 6 Pcs Prem      300X600              Wall   \n",
       "1  300X600 ODM Babylon Brown Lt 6 Pcs Prem      300X600              Wall   \n",
       "2      300X450 ODG Emilia Brown 6 Pcs Prem      300X450              Wall   \n",
       "3         300X450 ODH Emilia Hl 6 Pcs Prem      300X450              Wall   \n",
       "4  300X600 ODG Hexagon Beige Lt 6 Pcs Prem      300X600              Wall   \n",
       "\n",
       "  Item Classification  Item Cat. Code  ... Billing Rate/Sqm Buyer Rate/Sqm  \\\n",
       "0             Ceramic  S0570502+AF8-1  ...            325.0            360   \n",
       "1             Ceramic  S0570501+AF8-1  ...            325.0            360   \n",
       "2             Ceramic  S0560501+AF8-1  ...            252.0            282   \n",
       "3             Ceramic  S0560502+AF8-1  ...            252.0            282   \n",
       "4             Ceramic  S0570501+AF8-1  ...            330.0            360   \n",
       "\n",
       "  Ship+AC0-to City           FY Category Review Zone  Category 2  \\\n",
       "0      Sikandrabad  2018+AC0-19      HVP          NC     Ceramic   \n",
       "1      Sikandrabad  2018+AC0-19      HVP          NC     Ceramic   \n",
       "2         Dehradun  2018+AC0-19  Non HVP          NC     Ceramic   \n",
       "3         Dehradun  2018+AC0-19  Non HVP          NC     Ceramic   \n",
       "4         Dehradun  2018+AC0-19      HVP          NC     Ceramic   \n",
       "\n",
       "   Re Territory  Unnamed: 33  Unnamed: 34  \n",
       "0         NOIDA          NaN          NaN  \n",
       "1         NOIDA          NaN          NaN  \n",
       "2      DEHRADUN          NaN          NaN  \n",
       "3      DEHRADUN          NaN          NaN  \n",
       "4      DEHRADUN          NaN          NaN  \n",
       "\n",
       "[5 rows x 35 columns]"
      ]
     },
     "execution_count": 131,
     "metadata": {},
     "output_type": "execute_result"
    }
   ],
   "source": [
    "test.head()"
   ]
  },
  {
   "cell_type": "code",
   "execution_count": 132,
   "id": "d4f0371e",
   "metadata": {},
   "outputs": [
    {
     "name": "stdout",
     "output_type": "stream",
     "text": [
      "<class 'pandas.core.frame.DataFrame'>\n",
      "RangeIndex: 4048 entries, 0 to 4047\n",
      "Data columns (total 35 columns):\n",
      " #   Column               Non-Null Count  Dtype  \n",
      "---  ------               --------------  -----  \n",
      " 0   Item Code            4048 non-null   object \n",
      " 1   State                4048 non-null   object \n",
      " 2   Date                 4048 non-null   object \n",
      " 3   Month                4048 non-null   object \n",
      " 4   Item Description     4048 non-null   object \n",
      " 5   ERP Size             4048 non-null   object \n",
      " 6   Wall / Floor         4048 non-null   object \n",
      " 7   Sticker Body Type    4048 non-null   object \n",
      " 8   Item Classification  4048 non-null   object \n",
      " 9   Item Cat. Code       4048 non-null   object \n",
      " 10  Quality Code         4048 non-null   object \n",
      " 11  Customer Code        4048 non-null   object \n",
      " 12  Customer City        4048 non-null   object \n",
      " 13  Customer Type        4048 non-null   object \n",
      " 14  Sales Type           4048 non-null   object \n",
      " 15  MRP /BOX             4048 non-null   object \n",
      " 16  MRP /Sqm             4048 non-null   float64\n",
      " 17  AD1 /Sqm             4048 non-null   float64\n",
      " 18  AD2/Sqm              4048 non-null   int64  \n",
      " 19  AD3/Sqm              4048 non-null   int64  \n",
      " 20  AD4/Sqm              4048 non-null   float64\n",
      " 21  AD5/Sqm              4048 non-null   object \n",
      " 22  AD6/Sqm              4048 non-null   object \n",
      " 23  AD7/Sqm              4048 non-null   int64  \n",
      " 24  Total AD/Sqm         4048 non-null   float64\n",
      " 25  Billing Rate/Sqm     4048 non-null   float64\n",
      " 26  Buyer Rate/Sqm       4048 non-null   int64  \n",
      " 27  Ship+AC0-to City     4048 non-null   object \n",
      " 28  FY                   4048 non-null   object \n",
      " 29  Category             4048 non-null   object \n",
      " 30  Review Zone          4048 non-null   object \n",
      " 31  Category 2           4048 non-null   object \n",
      " 32  Re Territory         4048 non-null   object \n",
      " 33  Unnamed: 33          1 non-null      object \n",
      " 34  Unnamed: 34          1 non-null      object \n",
      "dtypes: float64(5), int64(4), object(26)\n",
      "memory usage: 1.1+ MB\n"
     ]
    }
   ],
   "source": [
    "test.info()"
   ]
  },
  {
   "cell_type": "code",
   "execution_count": 133,
   "id": "92c2ec64",
   "metadata": {},
   "outputs": [],
   "source": [
    "test.replace('#NAME?',np.nan,inplace=True)\n",
    "\n",
    "test.drop(['Month','Date','Unnamed: 33','Unnamed: 34'],axis=1,inplace=True)"
   ]
  },
  {
   "cell_type": "code",
   "execution_count": 134,
   "id": "f3ed7c4d",
   "metadata": {},
   "outputs": [],
   "source": [
    "test['Ship+AC0-to City'].fillna(test['Ship+AC0-to City'].mode()[0],inplace=True)\n",
    "test['Customer City'].fillna(test['Customer City'].mode()[0],inplace=True)\n",
    "test['FY'].fillna(test['FY'].mode()[0],inplace=True)"
   ]
  },
  {
   "cell_type": "code",
   "execution_count": 135,
   "id": "37abea5d",
   "metadata": {},
   "outputs": [],
   "source": [
    "avg1=test['AD4/Sqm'].astype('float').mean(axis=0)\n",
    "test['AD4/Sqm'].replace(np.nan,avg1,inplace=True)"
   ]
  },
  {
   "cell_type": "code",
   "execution_count": 136,
   "id": "6d8b34f7",
   "metadata": {},
   "outputs": [],
   "source": [
    "avg2=test['AD5/Sqm'].astype('float').mean(axis=0)\n",
    "test['AD5/Sqm'].replace(np.nan,avg2,inplace=True)"
   ]
  },
  {
   "cell_type": "code",
   "execution_count": 137,
   "id": "acf84c00",
   "metadata": {},
   "outputs": [],
   "source": [
    "avg3=test['AD6/Sqm'].astype('float').mean(axis=0)\n",
    "test['AD6/Sqm'].replace(np.nan,avg3,inplace=True)"
   ]
  },
  {
   "cell_type": "code",
   "execution_count": 138,
   "id": "a233e77a",
   "metadata": {},
   "outputs": [],
   "source": [
    "test['AD7/Sqm'].replace('SIPL/1819/06179',np.nan,inplace=True)\n",
    "test['AD7/Sqm'].replace('SIPL/1819/06347',np.nan,inplace=True)\n",
    "test['AD7/Sqm'].replace('SIPLEXS18/0091',np.nan,inplace=True)"
   ]
  },
  {
   "cell_type": "code",
   "execution_count": 139,
   "id": "362b82be",
   "metadata": {},
   "outputs": [],
   "source": [
    "avg4=test['AD7/Sqm'].astype('float').mean(axis=0)\n",
    "\n",
    "test['AD7/Sqm'].replace(np.nan,avg4,inplace=True)"
   ]
  },
  {
   "cell_type": "code",
   "execution_count": 140,
   "id": "89297811",
   "metadata": {},
   "outputs": [],
   "source": [
    "avg5=test['Billing Rate/Sqm'].astype('float').mean(axis=0)\n",
    "avg5\n",
    "\n",
    "test['Billing Rate/Sqm'].replace(np.nan,avg5,inplace=True)"
   ]
  },
  {
   "cell_type": "code",
   "execution_count": 141,
   "id": "3454307e",
   "metadata": {},
   "outputs": [],
   "source": [
    "avg6=test['Buyer Rate/Sqm'].astype('float').mean(axis=0)\n",
    "avg6\n",
    "\n",
    "test['Buyer Rate/Sqm'].replace(np.nan,avg6,inplace=True)"
   ]
  },
  {
   "cell_type": "code",
   "execution_count": 142,
   "id": "8b7b7ef9",
   "metadata": {},
   "outputs": [],
   "source": [
    "test['AD5/Sqm']=test['AD5/Sqm'].astype('float')\n",
    "test['AD6/Sqm']=test['AD5/Sqm'].astype('float')\n",
    "test['AD7/Sqm']=test['AD5/Sqm'].astype('float')"
   ]
  },
  {
   "cell_type": "code",
   "execution_count": 143,
   "id": "87d7dd9a",
   "metadata": {},
   "outputs": [
    {
     "data": {
      "text/plain": [
       "Ceramic      3466\n",
       "Vitrified     582\n",
       "Name: Item Classification, dtype: int64"
      ]
     },
     "execution_count": 143,
     "metadata": {},
     "output_type": "execute_result"
    }
   ],
   "source": [
    "test['Item Classification'].value_counts()"
   ]
  },
  {
   "cell_type": "code",
   "execution_count": 144,
   "id": "d1b20f08",
   "metadata": {},
   "outputs": [
    {
     "data": {
      "text/plain": [
       "Item Code              0\n",
       "State                  0\n",
       "Item Description       0\n",
       "ERP Size               0\n",
       "Wall / Floor           0\n",
       "Sticker Body Type      0\n",
       "Item Classification    0\n",
       "Item Cat. Code         0\n",
       "Quality Code           0\n",
       "Customer Code          0\n",
       "Customer City          0\n",
       "Customer Type          0\n",
       "Sales Type             0\n",
       "MRP /BOX               0\n",
       "MRP /Sqm               0\n",
       "AD1 /Sqm               0\n",
       "AD2/Sqm                0\n",
       "AD3/Sqm                0\n",
       "AD4/Sqm                0\n",
       "AD5/Sqm                0\n",
       "AD6/Sqm                0\n",
       "AD7/Sqm                0\n",
       "Total AD/Sqm           0\n",
       "Billing Rate/Sqm       0\n",
       "Buyer Rate/Sqm         0\n",
       "Ship+AC0-to City       0\n",
       "FY                     0\n",
       "Category               0\n",
       "Review Zone            0\n",
       "Category 2             0\n",
       "Re Territory           0\n",
       "dtype: int64"
      ]
     },
     "execution_count": 144,
     "metadata": {},
     "output_type": "execute_result"
    }
   ],
   "source": [
    "test.isnull().sum()"
   ]
  },
  {
   "cell_type": "code",
   "execution_count": 145,
   "id": "2b1034e8",
   "metadata": {},
   "outputs": [
    {
     "data": {
      "text/plain": [
       "Index(['Item Code', 'State', 'Item Description', 'ERP Size', 'Wall / Floor',\n",
       "       'Sticker Body Type', 'Item Classification', 'Item Cat. Code',\n",
       "       'Quality Code', 'Customer Code', 'Customer City', 'Customer Type',\n",
       "       'Sales Type', 'MRP /BOX', 'Ship+AC0-to City', 'FY', 'Category',\n",
       "       'Review Zone', 'Category 2', 'Re Territory'],\n",
       "      dtype='object')"
      ]
     },
     "execution_count": 145,
     "metadata": {},
     "output_type": "execute_result"
    }
   ],
   "source": [
    "test_cat=test.select_dtypes(include='object').columns \n",
    "test_cat"
   ]
  },
  {
   "cell_type": "code",
   "execution_count": 146,
   "id": "6b15b555",
   "metadata": {},
   "outputs": [],
   "source": [
    "for c in test_cat:\n",
    "        lbl=LabelEncoder()\n",
    "        lbl.fit(list(test[c].values))\n",
    "        test[c]=lbl.transform(list(test[c].values))"
   ]
  },
  {
   "cell_type": "code",
   "execution_count": 147,
   "id": "76d64fb5",
   "metadata": {},
   "outputs": [
    {
     "name": "stdout",
     "output_type": "stream",
     "text": [
      "<class 'pandas.core.frame.DataFrame'>\n",
      "RangeIndex: 4048 entries, 0 to 4047\n",
      "Data columns (total 31 columns):\n",
      " #   Column               Non-Null Count  Dtype  \n",
      "---  ------               --------------  -----  \n",
      " 0   Item Code            4048 non-null   int32  \n",
      " 1   State                4048 non-null   int32  \n",
      " 2   Item Description     4048 non-null   int32  \n",
      " 3   ERP Size             4048 non-null   int32  \n",
      " 4   Wall / Floor         4048 non-null   int32  \n",
      " 5   Sticker Body Type    4048 non-null   int32  \n",
      " 6   Item Classification  4048 non-null   int32  \n",
      " 7   Item Cat. Code       4048 non-null   int32  \n",
      " 8   Quality Code         4048 non-null   int32  \n",
      " 9   Customer Code        4048 non-null   int32  \n",
      " 10  Customer City        4048 non-null   int32  \n",
      " 11  Customer Type        4048 non-null   int32  \n",
      " 12  Sales Type           4048 non-null   int32  \n",
      " 13  MRP /BOX             4048 non-null   int32  \n",
      " 14  MRP /Sqm             4048 non-null   float64\n",
      " 15  AD1 /Sqm             4048 non-null   float64\n",
      " 16  AD2/Sqm              4048 non-null   int64  \n",
      " 17  AD3/Sqm              4048 non-null   int64  \n",
      " 18  AD4/Sqm              4048 non-null   float64\n",
      " 19  AD5/Sqm              4048 non-null   float64\n",
      " 20  AD6/Sqm              4048 non-null   float64\n",
      " 21  AD7/Sqm              4048 non-null   float64\n",
      " 22  Total AD/Sqm         4048 non-null   float64\n",
      " 23  Billing Rate/Sqm     4048 non-null   float64\n",
      " 24  Buyer Rate/Sqm       4048 non-null   int64  \n",
      " 25  Ship+AC0-to City     4048 non-null   int32  \n",
      " 26  FY                   4048 non-null   int32  \n",
      " 27  Category             4048 non-null   int32  \n",
      " 28  Review Zone          4048 non-null   int32  \n",
      " 29  Category 2           4048 non-null   int32  \n",
      " 30  Re Territory         4048 non-null   int32  \n",
      "dtypes: float64(8), int32(20), int64(3)\n",
      "memory usage: 664.2 KB\n"
     ]
    }
   ],
   "source": [
    "test.info()"
   ]
  },
  {
   "cell_type": "code",
   "execution_count": null,
   "id": "253bd021",
   "metadata": {},
   "outputs": [],
   "source": []
  },
  {
   "cell_type": "markdown",
   "id": "ffdee52e",
   "metadata": {},
   "source": [
    "## Exploratory Data Analysis"
   ]
  },
  {
   "cell_type": "code",
   "execution_count": 148,
   "id": "1e322488",
   "metadata": {},
   "outputs": [
    {
     "data": {
      "text/plain": [
       "(array([1.6955e+04, 4.1800e+02, 6.1000e+01, 2.7000e+01, 4.0000e+00,\n",
       "        5.0000e+00, 1.0000e+00, 0.0000e+00, 0.0000e+00, 1.0000e+00]),\n",
       " array([1.620000e+02, 8.120340e+04, 1.622448e+05, 2.432862e+05,\n",
       "        3.243276e+05, 4.053690e+05, 4.864104e+05, 5.674518e+05,\n",
       "        6.484932e+05, 7.295346e+05, 8.105760e+05]),\n",
       " <BarContainer object of 10 artists>)"
      ]
     },
     "execution_count": 148,
     "metadata": {},
     "output_type": "execute_result"
    },
    {
     "data": {
      "image/png": "[encoded data removed]",
      "text/plain": [
       "<Figure size 432x288 with 1 Axes>"
      ]
     },
     "metadata": {
      "needs_background": "light"
     },
     "output_type": "display_data"
    }
   ],
   "source": [
    "import matplotlib.pyplot as plt\n",
    "import seaborn as sns\n",
    "plt.hist(train['Value'])"
   ]
  },
  {
   "cell_type": "code",
   "execution_count": 149,
   "id": "79cd9abe",
   "metadata": {},
   "outputs": [
    {
     "data": {
      "text/plain": [
       "<AxesSubplot:>"
      ]
     },
     "execution_count": 149,
     "metadata": {},
     "output_type": "execute_result"
    },
    {
     "data": {
      "image/png": "[encoded data removed]",
      "text/plain": [
       "<Figure size 432x288 with 1 Axes>"
      ]
     },
     "metadata": {
      "needs_background": "light"
     },
     "output_type": "display_data"
    }
   ],
   "source": [
    "sns.boxplot(data=train[\"Value\"])"
   ]
  },
  {
   "cell_type": "code",
   "execution_count": 168,
   "id": "8fbbd2fa",
   "metadata": {},
   "outputs": [
    {
     "data": {
      "text/html": [
       "<div>\n",
       "<style scoped>\n",
       "    .dataframe tbody tr th:only-of-type {\n",
       "        vertical-align: middle;\n",
       "    }\n",
       "\n",
       "    .dataframe tbody tr th {\n",
       "        vertical-align: top;\n",
       "    }\n",
       "\n",
       "    .dataframe thead th {\n",
       "        text-align: right;\n",
       "    }\n",
       "</style>\n",
       "<table border=\"1\" class=\"dataframe\">\n",
       "  <thead>\n",
       "    <tr style=\"text-align: right;\">\n",
       "      <th></th>\n",
       "      <th>Item Code</th>\n",
       "      <th>State</th>\n",
       "      <th>Item Description</th>\n",
       "      <th>ERP Size</th>\n",
       "      <th>Wall / Floor</th>\n",
       "      <th>Sticker Body Type</th>\n",
       "      <th>Item Classification</th>\n",
       "      <th>Value</th>\n",
       "      <th>Item Cat. Code</th>\n",
       "      <th>Quality Code</th>\n",
       "      <th>...</th>\n",
       "      <th>AD7/Sqm</th>\n",
       "      <th>Total AD/Sqm</th>\n",
       "      <th>Billing Rate/Sqm</th>\n",
       "      <th>Buyer Rate/Sqm</th>\n",
       "      <th>Ship+AC0-to City</th>\n",
       "      <th>FY</th>\n",
       "      <th>Category</th>\n",
       "      <th>Review Zone</th>\n",
       "      <th>Category 2</th>\n",
       "      <th>Re Territory</th>\n",
       "    </tr>\n",
       "  </thead>\n",
       "  <tbody>\n",
       "    <tr>\n",
       "      <th>0</th>\n",
       "      <td>391</td>\n",
       "      <td>3</td>\n",
       "      <td>0</td>\n",
       "      <td>438</td>\n",
       "      <td>7</td>\n",
       "      <td>0</td>\n",
       "      <td>1</td>\n",
       "      <td>174096.00</td>\n",
       "      <td>4</td>\n",
       "      <td>0</td>\n",
       "      <td>...</td>\n",
       "      <td>0.0</td>\n",
       "      <td>36</td>\n",
       "      <td>403.0</td>\n",
       "      <td>438.0</td>\n",
       "      <td>107</td>\n",
       "      <td>0</td>\n",
       "      <td>0</td>\n",
       "      <td>1</td>\n",
       "      <td>2</td>\n",
       "      <td>22</td>\n",
       "    </tr>\n",
       "    <tr>\n",
       "      <th>1</th>\n",
       "      <td>394</td>\n",
       "      <td>3</td>\n",
       "      <td>0</td>\n",
       "      <td>439</td>\n",
       "      <td>7</td>\n",
       "      <td>0</td>\n",
       "      <td>1</td>\n",
       "      <td>174096.00</td>\n",
       "      <td>4</td>\n",
       "      <td>0</td>\n",
       "      <td>...</td>\n",
       "      <td>0.0</td>\n",
       "      <td>36</td>\n",
       "      <td>403.0</td>\n",
       "      <td>438.0</td>\n",
       "      <td>107</td>\n",
       "      <td>0</td>\n",
       "      <td>0</td>\n",
       "      <td>1</td>\n",
       "      <td>2</td>\n",
       "      <td>22</td>\n",
       "    </tr>\n",
       "    <tr>\n",
       "      <th>2</th>\n",
       "      <td>396</td>\n",
       "      <td>3</td>\n",
       "      <td>0</td>\n",
       "      <td>447</td>\n",
       "      <td>7</td>\n",
       "      <td>0</td>\n",
       "      <td>1</td>\n",
       "      <td>174096.00</td>\n",
       "      <td>4</td>\n",
       "      <td>0</td>\n",
       "      <td>...</td>\n",
       "      <td>0.0</td>\n",
       "      <td>36</td>\n",
       "      <td>403.0</td>\n",
       "      <td>438.0</td>\n",
       "      <td>107</td>\n",
       "      <td>0</td>\n",
       "      <td>0</td>\n",
       "      <td>1</td>\n",
       "      <td>2</td>\n",
       "      <td>22</td>\n",
       "    </tr>\n",
       "    <tr>\n",
       "      <th>3</th>\n",
       "      <td>392</td>\n",
       "      <td>3</td>\n",
       "      <td>0</td>\n",
       "      <td>453</td>\n",
       "      <td>7</td>\n",
       "      <td>0</td>\n",
       "      <td>1</td>\n",
       "      <td>162489.60</td>\n",
       "      <td>4</td>\n",
       "      <td>0</td>\n",
       "      <td>...</td>\n",
       "      <td>0.0</td>\n",
       "      <td>36</td>\n",
       "      <td>403.0</td>\n",
       "      <td>438.0</td>\n",
       "      <td>107</td>\n",
       "      <td>0</td>\n",
       "      <td>0</td>\n",
       "      <td>1</td>\n",
       "      <td>2</td>\n",
       "      <td>22</td>\n",
       "    </tr>\n",
       "    <tr>\n",
       "      <th>4</th>\n",
       "      <td>394</td>\n",
       "      <td>4</td>\n",
       "      <td>0</td>\n",
       "      <td>439</td>\n",
       "      <td>7</td>\n",
       "      <td>0</td>\n",
       "      <td>1</td>\n",
       "      <td>97493.76</td>\n",
       "      <td>4</td>\n",
       "      <td>0</td>\n",
       "      <td>...</td>\n",
       "      <td>0.0</td>\n",
       "      <td>36</td>\n",
       "      <td>403.0</td>\n",
       "      <td>438.0</td>\n",
       "      <td>264</td>\n",
       "      <td>0</td>\n",
       "      <td>0</td>\n",
       "      <td>1</td>\n",
       "      <td>2</td>\n",
       "      <td>26</td>\n",
       "    </tr>\n",
       "  </tbody>\n",
       "</table>\n",
       "<p>5 rows × 32 columns</p>\n",
       "</div>"
      ],
      "text/plain": [
       "   Item Code  State  Item Description  ERP Size  Wall / Floor  \\\n",
       "0        391      3                 0       438             7   \n",
       "1        394      3                 0       439             7   \n",
       "2        396      3                 0       447             7   \n",
       "3        392      3                 0       453             7   \n",
       "4        394      4                 0       439             7   \n",
       "\n",
       "   Sticker Body Type  Item Classification      Value  Item Cat. Code  \\\n",
       "0                  0                    1  174096.00               4   \n",
       "1                  0                    1  174096.00               4   \n",
       "2                  0                    1  174096.00               4   \n",
       "3                  0                    1  162489.60               4   \n",
       "4                  0                    1   97493.76               4   \n",
       "\n",
       "   Quality Code  ...  AD7/Sqm  Total AD/Sqm  Billing Rate/Sqm  Buyer Rate/Sqm  \\\n",
       "0             0  ...      0.0            36             403.0           438.0   \n",
       "1             0  ...      0.0            36             403.0           438.0   \n",
       "2             0  ...      0.0            36             403.0           438.0   \n",
       "3             0  ...      0.0            36             403.0           438.0   \n",
       "4             0  ...      0.0            36             403.0           438.0   \n",
       "\n",
       "   Ship+AC0-to City  FY  Category  Review Zone  Category 2  Re Territory  \n",
       "0               107   0         0            1           2            22  \n",
       "1               107   0         0            1           2            22  \n",
       "2               107   0         0            1           2            22  \n",
       "3               107   0         0            1           2            22  \n",
       "4               264   0         0            1           2            26  \n",
       "\n",
       "[5 rows x 32 columns]"
      ]
     },
     "execution_count": 168,
     "metadata": {},
     "output_type": "execute_result"
    }
   ],
   "source": [
    "train.head()"
   ]
  },
  {
   "cell_type": "code",
   "execution_count": null,
   "id": "e0a44410",
   "metadata": {},
   "outputs": [],
   "source": []
  },
  {
   "cell_type": "markdown",
   "id": "42ab0594",
   "metadata": {},
   "source": [
    "## Building Model"
   ]
  },
  {
   "cell_type": "code",
   "execution_count": 150,
   "id": "76628abf",
   "metadata": {},
   "outputs": [],
   "source": [
    "# Seperate Features and Target\n",
    "X1= train.drop(columns = ['Value'], axis=1)\n",
    "y1= train['Value']"
   ]
  },
  {
   "cell_type": "code",
   "execution_count": 151,
   "id": "70a49ff6",
   "metadata": {},
   "outputs": [],
   "source": [
    "from sklearn.model_selection import train_test_split,cross_val_score\n",
    "# 20% data as validation set\n",
    "X_train,X_valid,y_train,y_valid = train_test_split(X1,y1,test_size=0.2,random_state=22)"
   ]
  },
  {
   "cell_type": "code",
   "execution_count": 152,
   "id": "49906891",
   "metadata": {},
   "outputs": [],
   "source": [
    "from sklearn.linear_model import LinearRegression, Lasso, Ridge,SGDRegressor,LogisticRegression\n",
    "# Model Building\n",
    "features= X1.columns\n",
    "LR = LinearRegression(normalize=True)\n",
    "LR.fit(X_train,y_train)\n",
    "y_pred = LR.predict(X_valid)\n",
    "coef = pd.Series(LR.coef_,features).sort_values()"
   ]
  },
  {
   "cell_type": "code",
   "execution_count": 153,
   "id": "07a5111e",
   "metadata": {},
   "outputs": [],
   "source": [
    "pr= PolynomialFeatures(degree=3)\n",
    "lm=LinearRegression()\n",
    "Model_fit=pr.fit_transform(X1)\n",
    "lm_pr=lm.fit(Model_fit,y1)\n",
    "y_pred1=lm.predict(Model_fit)"
   ]
  },
  {
   "cell_type": "code",
   "execution_count": 154,
   "id": "badfa3ea",
   "metadata": {},
   "outputs": [
    {
     "name": "stdout",
     "output_type": "stream",
     "text": [
      "R Squared using Polynomial Regression: 0.789091324261832\n",
      "Mean Squared errorusing Polynomial Regerssion: 159772772.3342875\n",
      "Root mean Squared error using Polynomial Regression: 12640.125487284036\n"
     ]
    }
   ],
   "source": [
    "print('R Squared using Polynomial Regression:',r2_score(train['Value'],y_pred1))\n",
    "print('Mean Squared errorusing Polynomial Regerssion:',mean_squared_error(train['Value'],y_pred1))\n",
    "print('Root mean Squared error using Polynomial Regression:',np.sqrt(mean_squared_error(train['Value'],y_pred1)))"
   ]
  },
  {
   "cell_type": "code",
   "execution_count": 155,
   "id": "9b9802c4",
   "metadata": {},
   "outputs": [
    {
     "name": "stderr",
     "output_type": "stream",
     "text": [
      "C:\\ProgramData\\Anaconda3\\lib\\site-packages\\seaborn\\_decorators.py:36: FutureWarning:\n",
      "\n",
      "Pass the following variables as keyword args: x, y. From version 0.12, the only valid positional argument will be `data`, and passing other arguments without an explicit keyword will result in an error or misinterpretation.\n",
      "\n"
     ]
    },
    {
     "data": {
      "text/plain": [
       "<AxesSubplot:>"
      ]
     },
     "execution_count": 155,
     "metadata": {},
     "output_type": "execute_result"
    },
    {
     "data": {
      "image/png": "[encoded data removed]",
      "text/plain": [
       "<Figure size 576x360 with 1 Axes>"
      ]
     },
     "metadata": {
      "needs_background": "light"
     },
     "output_type": "display_data"
    }
   ],
   "source": [
    "# Barplot for coefficients\n",
    "plt.figure(figsize=(8,5))\n",
    "sns.barplot(LR.coef_,features)"
   ]
  },
  {
   "cell_type": "markdown",
   "id": "569ae8a5",
   "metadata": {},
   "source": [
    "### RMSE"
   ]
  },
  {
   "cell_type": "code",
   "execution_count": 156,
   "id": "1e56d16d",
   "metadata": {},
   "outputs": [
    {
     "name": "stdout",
     "output_type": "stream",
     "text": [
      "Root Mean Squared Error: 19407.714677930217\n"
     ]
    }
   ],
   "source": [
    "MSE= metrics.mean_squared_error(y_valid,y_pred)\n",
    "from math import sqrt\n",
    "rmse = sqrt(MSE)\n",
    "print(\"Root Mean Squared Error:\",rmse)"
   ]
  },
  {
   "cell_type": "code",
   "execution_count": 158,
   "id": "96e73edf",
   "metadata": {},
   "outputs": [],
   "source": [
    "algos = [LinearRegression(), Ridge(), Lasso(),\n",
    "          KNeighborsRegressor(), DecisionTreeRegressor()]\n",
    "\n",
    "names = ['Linear Regression', 'Ridge Regression', 'Lasso Regression',\n",
    "         'K Neighbors Regressor', 'Decision Tree Regressor']\n",
    "\n",
    "rmse_list = []"
   ]
  },
  {
   "cell_type": "code",
   "execution_count": 159,
   "id": "b9c3cdf4",
   "metadata": {},
   "outputs": [
    {
     "name": "stderr",
     "output_type": "stream",
     "text": [
      "C:\\ProgramData\\Anaconda3\\lib\\site-packages\\sklearn\\linear_model\\_coordinate_descent.py:530: ConvergenceWarning:\n",
      "\n",
      "Objective did not converge. You might want to increase the number of iterations. Duality gap: 1500279460209.7686, tolerance: 1092851153.1141806\n",
      "\n"
     ]
    }
   ],
   "source": [
    "for name in algos:\n",
    "    model = name\n",
    "    model.fit(X_train,y_train)\n",
    "    y_pred = model.predict(X_valid)\n",
    "    MSE= metrics.mean_squared_error(y_valid,y_pred)\n",
    "    rmse = np.sqrt(MSE)\n",
    "    rmse_list.append(rmse)"
   ]
  },
  {
   "cell_type": "code",
   "execution_count": 160,
   "id": "71539e84",
   "metadata": {},
   "outputs": [],
   "source": [
    "evaluation = pd.DataFrame({'Model': names,\n",
    "                           'RMSE': rmse_list})"
   ]
  },
  {
   "cell_type": "code",
   "execution_count": 161,
   "id": "41df55a5",
   "metadata": {},
   "outputs": [
    {
     "data": {
      "text/html": [
       "<div>\n",
       "<style scoped>\n",
       "    .dataframe tbody tr th:only-of-type {\n",
       "        vertical-align: middle;\n",
       "    }\n",
       "\n",
       "    .dataframe tbody tr th {\n",
       "        vertical-align: top;\n",
       "    }\n",
       "\n",
       "    .dataframe thead th {\n",
       "        text-align: right;\n",
       "    }\n",
       "</style>\n",
       "<table border=\"1\" class=\"dataframe\">\n",
       "  <thead>\n",
       "    <tr style=\"text-align: right;\">\n",
       "      <th></th>\n",
       "      <th>Model</th>\n",
       "      <th>RMSE</th>\n",
       "    </tr>\n",
       "  </thead>\n",
       "  <tbody>\n",
       "    <tr>\n",
       "      <th>0</th>\n",
       "      <td>Linear Regression</td>\n",
       "      <td>19407.714678</td>\n",
       "    </tr>\n",
       "    <tr>\n",
       "      <th>1</th>\n",
       "      <td>Ridge Regression</td>\n",
       "      <td>19413.964135</td>\n",
       "    </tr>\n",
       "    <tr>\n",
       "      <th>2</th>\n",
       "      <td>Lasso Regression</td>\n",
       "      <td>19408.801170</td>\n",
       "    </tr>\n",
       "    <tr>\n",
       "      <th>3</th>\n",
       "      <td>K Neighbors Regressor</td>\n",
       "      <td>17262.362314</td>\n",
       "    </tr>\n",
       "    <tr>\n",
       "      <th>4</th>\n",
       "      <td>Decision Tree Regressor</td>\n",
       "      <td>17460.492416</td>\n",
       "    </tr>\n",
       "  </tbody>\n",
       "</table>\n",
       "</div>"
      ],
      "text/plain": [
       "                     Model          RMSE\n",
       "0        Linear Regression  19407.714678\n",
       "1         Ridge Regression  19413.964135\n",
       "2         Lasso Regression  19408.801170\n",
       "3    K Neighbors Regressor  17262.362314\n",
       "4  Decision Tree Regressor  17460.492416"
      ]
     },
     "execution_count": 161,
     "metadata": {},
     "output_type": "execute_result"
    }
   ],
   "source": [
    "evaluation"
   ]
  },
  {
   "cell_type": "code",
   "execution_count": 162,
   "id": "495c0977",
   "metadata": {},
   "outputs": [
    {
     "name": "stdout",
     "output_type": "stream",
     "text": [
      "Mean_Squared_Error: 304868795.4160988\n",
      "Root_Mean_Sqaured_Erro: 17460.49241619774\n",
      "r_sqaure_value: 0.5381897172654464\n"
     ]
    }
   ],
   "source": [
    "mse=mean_squared_error(y_valid,y_pred)\n",
    "r_sqaured = r2_score(y_valid, y_pred)\n",
    "rmse=sqrt(mse)\n",
    "print('Mean_Squared_Error:',mse)\n",
    "print('Root_Mean_Sqaured_Erro:',rmse)\n",
    "print('r_sqaure_value:',r_sqaured)"
   ]
  },
  {
   "cell_type": "code",
   "execution_count": 163,
   "id": "2bf745cc",
   "metadata": {},
   "outputs": [
    {
     "data": {
      "text/plain": [
       "array([ 6972.48 ,  6972.48 , 10869.552, ..., 12261.456, 11381.148,\n",
       "       12261.456])"
      ]
     },
     "execution_count": 163,
     "metadata": {},
     "output_type": "execute_result"
    }
   ],
   "source": [
    "model = KNeighborsRegressor()\n",
    "model.fit(X1, y1)\n",
    "final_predictions = model.predict(test)\n",
    "final_predictions"
   ]
  },
  {
   "cell_type": "code",
   "execution_count": 165,
   "id": "c158eaf3",
   "metadata": {},
   "outputs": [
    {
     "data": {
      "text/html": [
       "<div>\n",
       "<style scoped>\n",
       "    .dataframe tbody tr th:only-of-type {\n",
       "        vertical-align: middle;\n",
       "    }\n",
       "\n",
       "    .dataframe tbody tr th {\n",
       "        vertical-align: top;\n",
       "    }\n",
       "\n",
       "    .dataframe thead th {\n",
       "        text-align: right;\n",
       "    }\n",
       "</style>\n",
       "<table border=\"1\" class=\"dataframe\">\n",
       "  <thead>\n",
       "    <tr style=\"text-align: right;\">\n",
       "      <th></th>\n",
       "      <th>id</th>\n",
       "      <th>value</th>\n",
       "    </tr>\n",
       "  </thead>\n",
       "  <tbody>\n",
       "    <tr>\n",
       "      <th>0</th>\n",
       "      <td>1</td>\n",
       "      <td>1058</td>\n",
       "    </tr>\n",
       "    <tr>\n",
       "      <th>1</th>\n",
       "      <td>2</td>\n",
       "      <td>2742</td>\n",
       "    </tr>\n",
       "    <tr>\n",
       "      <th>2</th>\n",
       "      <td>3</td>\n",
       "      <td>2935</td>\n",
       "    </tr>\n",
       "    <tr>\n",
       "      <th>3</th>\n",
       "      <td>4</td>\n",
       "      <td>670</td>\n",
       "    </tr>\n",
       "    <tr>\n",
       "      <th>4</th>\n",
       "      <td>5</td>\n",
       "      <td>1599</td>\n",
       "    </tr>\n",
       "    <tr>\n",
       "      <th>5</th>\n",
       "      <td>6</td>\n",
       "      <td>3084</td>\n",
       "    </tr>\n",
       "    <tr>\n",
       "      <th>6</th>\n",
       "      <td>7</td>\n",
       "      <td>3057</td>\n",
       "    </tr>\n",
       "    <tr>\n",
       "      <th>7</th>\n",
       "      <td>8</td>\n",
       "      <td>2324</td>\n",
       "    </tr>\n",
       "    <tr>\n",
       "      <th>8</th>\n",
       "      <td>9</td>\n",
       "      <td>1596</td>\n",
       "    </tr>\n",
       "    <tr>\n",
       "      <th>9</th>\n",
       "      <td>10</td>\n",
       "      <td>2622</td>\n",
       "    </tr>\n",
       "    <tr>\n",
       "      <th>10</th>\n",
       "      <td>11</td>\n",
       "      <td>398</td>\n",
       "    </tr>\n",
       "    <tr>\n",
       "      <th>11</th>\n",
       "      <td>12</td>\n",
       "      <td>3021</td>\n",
       "    </tr>\n",
       "    <tr>\n",
       "      <th>12</th>\n",
       "      <td>13</td>\n",
       "      <td>2132</td>\n",
       "    </tr>\n",
       "    <tr>\n",
       "      <th>13</th>\n",
       "      <td>14</td>\n",
       "      <td>2934</td>\n",
       "    </tr>\n",
       "    <tr>\n",
       "      <th>14</th>\n",
       "      <td>15</td>\n",
       "      <td>1133</td>\n",
       "    </tr>\n",
       "    <tr>\n",
       "      <th>15</th>\n",
       "      <td>16</td>\n",
       "      <td>713</td>\n",
       "    </tr>\n",
       "    <tr>\n",
       "      <th>16</th>\n",
       "      <td>17</td>\n",
       "      <td>1096</td>\n",
       "    </tr>\n",
       "    <tr>\n",
       "      <th>17</th>\n",
       "      <td>18</td>\n",
       "      <td>1612</td>\n",
       "    </tr>\n",
       "    <tr>\n",
       "      <th>18</th>\n",
       "      <td>19</td>\n",
       "      <td>477</td>\n",
       "    </tr>\n",
       "    <tr>\n",
       "      <th>19</th>\n",
       "      <td>20</td>\n",
       "      <td>2495</td>\n",
       "    </tr>\n",
       "  </tbody>\n",
       "</table>\n",
       "</div>"
      ],
      "text/plain": [
       "    id  value\n",
       "0    1   1058\n",
       "1    2   2742\n",
       "2    3   2935\n",
       "3    4    670\n",
       "4    5   1599\n",
       "5    6   3084\n",
       "6    7   3057\n",
       "7    8   2324\n",
       "8    9   1596\n",
       "9   10   2622\n",
       "10  11    398\n",
       "11  12   3021\n",
       "12  13   2132\n",
       "13  14   2934\n",
       "14  15   1133\n",
       "15  16    713\n",
       "16  17   1096\n",
       "17  18   1612\n",
       "18  19    477\n",
       "19  20   2495"
      ]
     },
     "execution_count": 165,
     "metadata": {},
     "output_type": "execute_result"
    }
   ],
   "source": [
    "submission = pd.read_csv('sample.csv')\n",
    "submission.head(20)"
   ]
  },
  {
   "cell_type": "code",
   "execution_count": 167,
   "id": "90692012",
   "metadata": {},
   "outputs": [],
   "source": [
    "submission['value'] = final_predictions\n",
    "\n",
    "#only positive predictions for the target variable\n",
    "submission['value'] = submission['value'].apply(lambda x: 0 if x<0 else x)\n",
    "submission.to_csv('my_submission.csv', index=False)"
   ]
  },
  {
   "cell_type": "code",
   "execution_count": null,
   "id": "48501c94",
   "metadata": {},
   "outputs": [],
   "source": []
  }
 ],
 "metadata": {
  "kernelspec": {
   "display_name": "Python 3 (ipykernel)",
   "language": "python",
   "name": "python3"
  },
  "language_info": {
   "codemirror_mode": {
    "name": "ipython",
    "version": 3
   },
   "file_extension": ".py",
   "mimetype": "text/x-python",
   "name": "python",
   "nbconvert_exporter": "python",
   "pygments_lexer": "ipython3",
   "version": "3.8.8"
  }
 },
 "nbformat": 4,
 "nbformat_minor": 5
}
